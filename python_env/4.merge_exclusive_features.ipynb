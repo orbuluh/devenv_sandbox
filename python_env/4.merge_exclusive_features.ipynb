{
 "cells": [
  {
   "cell_type": "markdown",
   "metadata": {},
   "source": [
    "# lightGBM - Merge Exclusive Features\n",
    "\n",
    "- Modified from: https://github.com/meanxai/machine_learning/blob/main/12.LGBM/4.merge_features.py\n",
    "- A detailed description of this code can be found in https://youtu.be/orSRRtWtPwE"
   ]
  },
  {
   "cell_type": "code",
   "execution_count": 7,
   "metadata": {},
   "outputs": [],
   "source": [
    "# Algorithm 4: Merge Exclusive Features\n",
    "def merge_features(numData, F):\n",
    "    binRanges = [0]\n",
    "    totalBin = 0\n",
    "    for f in F:\n",
    "        totalBin += np.max(f)\n",
    "        binRanges.append(int(totalBin))  # convert to int for better display\n",
    "\n",
    "    newBin = np.zeros(numData, dtype=int)\n",
    "    for i in range(numData):\n",
    "        newBin[i] = 0\n",
    "        for j in range(len(F)):\n",
    "            if F[j][i] != 0:\n",
    "                newBin[i] = F[j][i] + binRanges[j]\n",
    "    return newBin, binRanges"
   ]
  },
  {
   "cell_type": "code",
   "execution_count": 8,
   "metadata": {},
   "outputs": [],
   "source": [
    "# modified Algorithm 4 (skip-zero-version)\n",
    "def merge_features2(numData, F):\n",
    "    binRanges = [0]\n",
    "    totalBin = 0\n",
    "    for f in F:\n",
    "        totalBin += np.max(f)\n",
    "        binRanges.append(int(totalBin))  # convert to int for better display\n",
    "\n",
    "    # initialize newBin with F[0] to skip zero in binRanges[0]\n",
    "    newBin = F[0].copy()  # use copy for better visualization later, not needed to do so\n",
    "    for i in range(numData):\n",
    "        for j in range(1, len(F)):\n",
    "            if F[j][i] != 0:\n",
    "                newBin[i] = F[j][i] + binRanges[j]\n",
    "    return newBin, binRanges"
   ]
  },
  {
   "cell_type": "code",
   "execution_count": 9,
   "metadata": {},
   "outputs": [],
   "source": [
    "import numpy as np\n",
    "\n",
    "x = np.array(\n",
    "    [  # v        v      <--- showing buddle of feature 0 and 3 below\n",
    "        [1, 1, 0, 0, 1],\n",
    "        [0, 0, 1, 1, 1],\n",
    "        [1, 2, 0, 0, 2],\n",
    "        [0, 0, 2, 3, 1],\n",
    "        [2, 1, 0, 0, 3],\n",
    "        [3, 3, 0, 0, 1],\n",
    "        [0, 0, 3, 0, 2],\n",
    "        [1, 2, 3, 4, 3],  # <-- conflict here\n",
    "        [1, 0, 1, 0, 0],\n",
    "        [2, 3, 0, 0, 2],\n",
    "    ]\n",
    ")"
   ]
  },
  {
   "cell_type": "code",
   "execution_count": 10,
   "metadata": {},
   "outputs": [
    {
     "name": "stdout",
     "output_type": "stream",
     "text": [
      "feature_0: [1 0 1 0 2 3 0 1 1 2]\n",
      "feature_1: [0 1 0 3 0 0 0 4 0 0]\n",
      "\n",
      "newBin: [1 4 1 6 2 3 0 7 1 2]\n",
      "binRanges: [0, 3, 7]\n",
      "\n",
      "newBin: [1 4 1 6 2 3 0 7 1 2]\n",
      "binRanges: [0, 3, 7]\n"
     ]
    }
   ],
   "source": [
    "bundles = [[4], [0, 3], [1, 2]]  # The result of Greedy Bundling\n",
    "\n",
    "F = [x[:, i] for i in bundles[1]]\n",
    "for i, f in enumerate(F):\n",
    "    print(f\"feature_{i}: {f}\")\n",
    "\n",
    "newBin, binRanges = merge_features(x.shape[0], F)\n",
    "print(\"\\nnewBin:\", newBin)\n",
    "print(\"binRanges:\", binRanges)\n",
    "\n",
    "newBin, binRanges = merge_features2(x.shape[0], F)\n",
    "print(\"\\nnewBin:\", newBin)\n",
    "print(\"binRanges:\", binRanges)"
   ]
  },
  {
   "cell_type": "code",
   "execution_count": 11,
   "metadata": {},
   "outputs": [
    {
     "name": "stdout",
     "output_type": "stream",
     "text": [
      "Feature 0:\n",
      "  Range: 0 to 3\n",
      "  Unique values: [0 1 2 3]\n",
      "Feature 1:\n",
      "  Range: 3 to 7\n",
      "  Unique values: [0 1 3 4]\n",
      "\n",
      "Merged Output (newBin):\n",
      "  Unique values in newBin: [0 1 2 3 4 6 7]\n",
      "  Number of unique merged bins: 7\n"
     ]
    }
   ],
   "source": [
    "for i, f in enumerate(F):\n",
    "    print(f\"Feature {i}:\")\n",
    "    print(f\"  Range: {binRanges[i]} to {binRanges[i+1]}\")\n",
    "    print(f\"  Unique values: {np.unique(f)}\")\n",
    "\n",
    "print(\"\\nMerged Output (newBin):\")\n",
    "print(f\"  Unique values in newBin: {np.unique(newBin)}\")\n",
    "print(f\"  Number of unique merged bins: {len(np.unique(newBin))}\")"
   ]
  },
  {
   "cell_type": "code",
   "execution_count": 12,
   "metadata": {},
   "outputs": [
    {
     "name": "stdout",
     "output_type": "stream",
     "text": [
      "   feature_0  feature_1  merged_feature\n",
      "0          1          0               1\n",
      "1          0          1               4\n",
      "2          1          0               1\n",
      "3          0          3               6\n",
      "4          2          0               2\n",
      "5          3          0               3\n",
      "6          0          0               0\n",
      "7          1          4               7\n",
      "8          1          0               1\n",
      "9          2          0               2\n"
     ]
    }
   ],
   "source": [
    "import pandas as pd\n",
    "\n",
    "\n",
    "def visualize_merge(numData, F, newBin):\n",
    "    # Create a dictionary to store the data for visualization\n",
    "    data_dict = {}\n",
    "\n",
    "    for i in range(len(F)):\n",
    "        data_dict[f\"feature_{i}\"] = F[i]\n",
    "\n",
    "    data_dict[\"merged_feature\"] = newBin\n",
    "\n",
    "    # Convert to a pandas DataFrame\n",
    "    df = pd.DataFrame(data_dict)\n",
    "\n",
    "    # Display the DataFrame for visualization\n",
    "    print(df)\n",
    "\n",
    "\n",
    "# Example usage:\n",
    "visualize_merge(x.shape[0], F, newBin)"
   ]
  }
 ],
 "metadata": {
  "kernelspec": {
   "display_name": ".venv",
   "language": "python",
   "name": "python3"
  },
  "language_info": {
   "codemirror_mode": {
    "name": "ipython",
    "version": 3
   },
   "file_extension": ".py",
   "mimetype": "text/x-python",
   "name": "python",
   "nbconvert_exporter": "python",
   "pygments_lexer": "ipython3",
   "version": "3.10.12"
  }
 },
 "nbformat": 4,
 "nbformat_minor": 2
}

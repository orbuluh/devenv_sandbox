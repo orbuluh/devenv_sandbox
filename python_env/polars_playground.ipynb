{
 "cells": [
  {
   "cell_type": "code",
   "execution_count": 1,
   "metadata": {},
   "outputs": [],
   "source": [
    "import random\n",
    "import string\n",
    "import polars as pl"
   ]
  },
  {
   "cell_type": "code",
   "execution_count": 2,
   "metadata": {},
   "outputs": [],
   "source": [
    "def generate_random_string(length: int) -> str:\n",
    "    return \"\".join([random.choice(string.ascii_letters) for _ in range(length)])\n",
    "\n",
    "\n",
    "data = {}\n",
    "for i in range(1, 11):\n",
    "    data[f\"column_{i}\"] = [generate_random_string(10)]\n",
    "df = pl.DataFrame(data)"
   ]
  },
  {
   "cell_type": "code",
   "execution_count": 3,
   "metadata": {},
   "outputs": [
    {
     "name": "stdout",
     "output_type": "stream",
     "text": [
      "shape: (1, 10)\n",
      "┌───────┬───────┬───────┬───────┬───────┬───────┬───────┬───────┬───────┬───────┐\n",
      "│ colu… ┆ colu… ┆ colu… ┆ colu… ┆ colu… ┆ colu… ┆ colu… ┆ colu… ┆ colu… ┆ colu… │\n",
      "│ ---   ┆ ---   ┆ ---   ┆ ---   ┆ ---   ┆ ---   ┆ ---   ┆ ---   ┆ ---   ┆ ---   │\n",
      "│ str   ┆ str   ┆ str   ┆ str   ┆ str   ┆ str   ┆ str   ┆ str   ┆ str   ┆ str   │\n",
      "╞═══════╪═══════╪═══════╪═══════╪═══════╪═══════╪═══════╪═══════╪═══════╪═══════╡\n",
      "│ aoLK… ┆ yaGo… ┆ NbEf… ┆ ScPN… ┆ wFIO… ┆ XCYO… ┆ wRSK… ┆ gQBq… ┆ dwyW… ┆ LGHk… │\n",
      "└───────┴───────┴───────┴───────┴───────┴───────┴───────┴───────┴───────┴───────┘\n"
     ]
    }
   ],
   "source": [
    "with pl.Config(tbl_cols=-1, fmt_str_lengths=4):\n",
    "    print(df)"
   ]
  },
  {
   "cell_type": "code",
   "execution_count": 4,
   "metadata": {},
   "outputs": [
    {
     "name": "stdout",
     "output_type": "stream",
     "text": [
      "shape: (1, 10)\n",
      "+-----------+-----------+-----------+-----------+---+-----------+-----------+-----------+----------+\n",
      "| column_1  | column_2  | column_3  | column_4  | … | column_7  | column_8  | column_9  | column_1 |\n",
      "| ---       | ---       | ---       | ---       |   | ---       | ---       | ---       | 0        |\n",
      "| str       | str       | str       | str       |   | str       | str       | str       | ---      |\n",
      "|           |           |           |           |   |           |           |           | str      |\n",
      "+==================================================================================================+\n",
      "| aoLKFaKja | yaGoQkVmo | NbEffqmsF | ScPNWdPps | … | wRSKpOczj | gQBqIwWFa | dwyWLXbHV | LGHkgPKe |\n",
      "| X         | H         | r         | f         |   | S         | v         | p         | QE       |\n",
      "+-----------+-----------+-----------+-----------+---+-----------+-----------+-----------+----------+\n"
     ]
    }
   ],
   "source": [
    "@pl.Config(ascii_tables=True)\n",
    "def write_ascii_frame_to_stdout(df: pl.DataFrame) -> None:\n",
    "    print(str(df))\n",
    "\n",
    "\n",
    "@pl.Config(verbose=True)\n",
    "def function_that_im_debugging(df: pl.DataFrame) -> None:\n",
    "    # Polars operation you want to see the verbose logging of\n",
    "    pass\n",
    "\n",
    "\n",
    "write_ascii_frame_to_stdout(df)\n",
    "function_that_im_debugging(df)"
   ]
  },
  {
   "cell_type": "code",
   "execution_count": 5,
   "metadata": {},
   "outputs": [
    {
     "data": {
      "text/html": [
       "<div><style>\n",
       ".dataframe > thead > tr,\n",
       ".dataframe > tbody > tr {\n",
       "  text-align: right;\n",
       "  white-space: pre-wrap;\n",
       "}\n",
       "</style>\n",
       "<small>shape: (2, 2)</small><table border=\"1\" class=\"dataframe\"><thead><tr><th>array_1</th><th>array_2</th></tr><tr><td>array[i64, 2]</td><td>array[i64, 3]</td></tr></thead><tbody><tr><td>[1, 3]</td><td>[1, 7, 3]</td></tr><tr><td>[2, 5]</td><td>[8, 1, 0]</td></tr></tbody></table></div>"
      ],
      "text/plain": [
       "shape: (2, 2)\n",
       "+---------------+---------------+\n",
       "| array_1       | array_2       |\n",
       "| ---           | ---           |\n",
       "| array[i64, 2] | array[i64, 3] |\n",
       "+===============================+\n",
       "| [1, 3]        | [1, 7, 3]     |\n",
       "| [2, 5]        | [8, 1, 0]     |\n",
       "+---------------+---------------+"
      ]
     },
     "execution_count": 5,
     "metadata": {},
     "output_type": "execute_result"
    }
   ],
   "source": [
    "  import polars as pl\n",
    "\n",
    "  array_df = pl.DataFrame(\n",
    "      [\n",
    "          pl.Series(\"array_1\", [[1, 3], [2, 5]]),\n",
    "          pl.Series(\"array_2\", [[1, 7, 3], [8, 1, 0]]),\n",
    "      ],\n",
    "      schema={\n",
    "          \"array_1\": pl.Array(shape=2, inner=pl.Int64),\n",
    "          \"array_2\": pl.Array(shape=3, inner=pl.Int64),\n",
    "      },\n",
    "  )\n",
    "  array_df"
   ]
  },
  {
   "cell_type": "code",
   "execution_count": 6,
   "metadata": {},
   "outputs": [
    {
     "data": {
      "text/html": [
       "<div><style>\n",
       ".dataframe > thead > tr,\n",
       ".dataframe > tbody > tr {\n",
       "  text-align: right;\n",
       "  white-space: pre-wrap;\n",
       "}\n",
       "</style>\n",
       "<small>shape: (2, 2)</small><table border=\"1\" class=\"dataframe\"><thead><tr><th>integer_lists</th><th>float_lists</th></tr><tr><td>list[i64]</td><td>list[f64]</td></tr></thead><tbody><tr><td>[1, 2]</td><td>[1.0, 2.0]</td></tr><tr><td>[3, 4]</td><td>[3.0, 4.0]</td></tr></tbody></table></div>"
      ],
      "text/plain": [
       "shape: (2, 2)\n",
       "+---------------+-------------+\n",
       "| integer_lists | float_lists |\n",
       "| ---           | ---         |\n",
       "| list[i64]     | list[f64]   |\n",
       "+=============================+\n",
       "| [1, 2]        | [1.0, 2.0]  |\n",
       "| [3, 4]        | [3.0, 4.0]  |\n",
       "+---------------+-------------+"
      ]
     },
     "execution_count": 6,
     "metadata": {},
     "output_type": "execute_result"
    }
   ],
   "source": [
    "  list_df = pl.DataFrame(\n",
    "      {\n",
    "          \"integer_lists\": [[1, 2], [3, 4]],\n",
    "          \"float_lists\": [[1.0, 2.0], [3.0, 4.0]],\n",
    "      }\n",
    "  )\n",
    "  list_df"
   ]
  },
  {
   "cell_type": "code",
   "execution_count": 7,
   "metadata": {},
   "outputs": [
    {
     "data": {
      "text/html": [
       "<div><style>\n",
       ".dataframe > thead > tr,\n",
       ".dataframe > tbody > tr {\n",
       "  text-align: right;\n",
       "  white-space: pre-wrap;\n",
       "}\n",
       "</style>\n",
       "<small>shape: (2,)</small><table border=\"1\" class=\"dataframe\"><thead><tr><th>ratings</th></tr><tr><td>struct[3]</td></tr></thead><tbody><tr><td>{&quot;Cars&quot;,&quot;NE&quot;,4.5}</td></tr><tr><td>{&quot;Toy Story&quot;,&quot;ME&quot;,4.9}</td></tr></tbody></table></div>"
      ],
      "text/plain": [
       "shape: (2,)\n",
       "Series: 'ratings' [struct[3]]\n",
       "[\n",
       "\t{\"Cars\",\"NE\",4.5}\n",
       "\t{\"Toy Story\",\"ME\",4.9}\n",
       "]"
      ]
     },
     "execution_count": 7,
     "metadata": {},
     "output_type": "execute_result"
    }
   ],
   "source": [
    "rating_series = pl.Series(\n",
    "    \"ratings\",\n",
    "    [\n",
    "        {\"Movie\": \"Cars\", \"Theatre\": \"NE\", \"Avg_Rating\": 4.5},\n",
    "        {\"Movie\": \"Toy Story\", \"Theatre\": \"ME\", \"Avg_Rating\": 4.9},\n",
    "    ],\n",
    ")\n",
    "rating_series"
   ]
  },
  {
   "cell_type": "code",
   "execution_count": 8,
   "metadata": {},
   "outputs": [
    {
     "name": "stdout",
     "output_type": "stream",
     "text": [
      "shape: (10, 1)\n",
      "+-------+\n",
      "| value |\n",
      "| ---   |\n",
      "| i64   |\n",
      "+=======+\n",
      "| null  |\n",
      "| 2     |\n",
      "| 3     |\n",
      "| 4     |\n",
      "| null  |\n",
      "| null  |\n",
      "| 7     |\n",
      "| 8     |\n",
      "| 9     |\n",
      "| null  |\n",
      "+-------+\n"
     ]
    }
   ],
   "source": [
    "df = pl.DataFrame(\n",
    "    {\n",
    "        \"value\": [None, 2, 3, 4, None, None, 7, 8, 9, None],\n",
    "    },\n",
    ")\n",
    "print(df)"
   ]
  },
  {
   "cell_type": "code",
   "execution_count": 9,
   "metadata": {},
   "outputs": [
    {
     "name": "stdout",
     "output_type": "stream",
     "text": [
      "shape: (10, 2)\n",
      "+-------+-----------------+\n",
      "| value | filled_with_lit |\n",
      "| ---   | ---             |\n",
      "| i64   | i64             |\n",
      "+=========================+\n",
      "| null  | -1              |\n",
      "| 2     | 2               |\n",
      "| 3     | 3               |\n",
      "| 4     | 4               |\n",
      "| null  | -1              |\n",
      "| null  | -1              |\n",
      "| 7     | 7               |\n",
      "| 8     | 8               |\n",
      "| 9     | 9               |\n",
      "| null  | -1              |\n",
      "+-------+-----------------+\n",
      "shape: (10, 8)\n",
      "+-------+---------+----------+-----+-----+------+------+-----+\n",
      "| value | forward | backward | min | max | mean | zero | one |\n",
      "| ---   | ---     | ---      | --- | --- | ---  | ---  | --- |\n",
      "| i64   | i64     | i64      | i64 | i64 | i64  | i64  | i64 |\n",
      "+============================================================+\n",
      "| null  | null    | 2        | 2   | 9   | 5    | 0    | 1   |\n",
      "| 2     | 2       | 2        | 2   | 2   | 2    | 2    | 2   |\n",
      "| 3     | 3       | 3        | 3   | 3   | 3    | 3    | 3   |\n",
      "| 4     | 4       | 4        | 4   | 4   | 4    | 4    | 4   |\n",
      "| null  | 4       | 7        | 2   | 9   | 5    | 0    | 1   |\n",
      "| null  | 4       | 7        | 2   | 9   | 5    | 0    | 1   |\n",
      "| 7     | 7       | 7        | 7   | 7   | 7    | 7    | 7   |\n",
      "| 8     | 8       | 8        | 8   | 8   | 8    | 8    | 8   |\n",
      "| 9     | 9       | 9        | 9   | 9   | 9    | 9    | 9   |\n",
      "| null  | 9       | null     | 2   | 9   | 5    | 0    | 1   |\n",
      "+-------+---------+----------+-----+-----+------+------+-----+\n"
     ]
    }
   ],
   "source": [
    "print(df.with_columns(pl.col(\"value\").fill_null(-1).alias(\"filled_with_lit\")))\n",
    "\n",
    "print(\n",
    "    df.with_columns(\n",
    "        pl.col(\"value\").fill_null(strategy=\"forward\").alias(\"forward\"),\n",
    "        pl.col(\"value\").fill_null(strategy=\"backward\").alias(\"backward\"),\n",
    "        pl.col(\"value\").fill_null(strategy=\"min\").alias(\"min\"),\n",
    "        pl.col(\"value\").fill_null(strategy=\"max\").alias(\"max\"),\n",
    "        pl.col(\"value\").fill_null(strategy=\"mean\").alias(\"mean\"),\n",
    "        pl.col(\"value\").fill_null(strategy=\"zero\").alias(\"zero\"),\n",
    "        pl.col(\"value\").fill_null(strategy=\"one\").alias(\"one\"),\n",
    "    )\n",
    ")"
   ]
  },
  {
   "cell_type": "code",
   "execution_count": 10,
   "metadata": {},
   "outputs": [
    {
     "name": "stdout",
     "output_type": "stream",
     "text": [
      "CPU times: user 15.3 s, sys: 4.76 s, total: 20.1 s\n",
      "Wall time: 1.23 s\n"
     ]
    },
    {
     "data": {
      "text/html": [
       "<div><style>\n",
       ".dataframe > thead > tr,\n",
       ".dataframe > tbody > tr {\n",
       "  text-align: right;\n",
       "  white-space: pre-wrap;\n",
       "}\n",
       "</style>\n",
       "<small>shape: (3, 2)</small><table border=\"1\" class=\"dataframe\"><thead><tr><th>VendorID</th><th>income_per_distance</th></tr><tr><td>i64</td><td>f64</td></tr></thead><tbody><tr><td>1</td><td>6.434789</td></tr><tr><td>6</td><td>5.296493</td></tr><tr><td>5</td><td>4.731557</td></tr></tbody></table></div>"
      ],
      "text/plain": [
       "shape: (3, 2)\n",
       "+----------+---------------------+\n",
       "| VendorID | income_per_distance |\n",
       "| ---      | ---                 |\n",
       "| i64      | f64                 |\n",
       "+================================+\n",
       "| 1        | 6.434789            |\n",
       "| 6        | 5.296493            |\n",
       "| 5        | 4.731557            |\n",
       "+----------+---------------------+"
      ]
     },
     "execution_count": 10,
     "metadata": {},
     "output_type": "execute_result"
    }
   ],
   "source": [
    "%%time\n",
    "trips = pl.read_parquet(\"data/taxi/yellow_tripdata_*.parquet\")\n",
    "sum_per_vendor = trips.group_by(\"VendorID\").sum()\n",
    "\n",
    "income_per_distance_per_vendor = sum_per_vendor.select(\n",
    "    \"VendorID\",\n",
    "    income_per_distance=pl.col(\"total_amount\") / pl.col(\"trip_distance\")\n",
    ")\n",
    "\n",
    "top_three = (\n",
    "    income_per_distance_per_vendor.sort(\n",
    "        by=\"income_per_distance\",\n",
    "        descending=True\n",
    "    )\n",
    "    .head(3)\n",
    ")\n",
    "top_three"
   ]
  },
  {
   "cell_type": "code",
   "execution_count": 11,
   "metadata": {},
   "outputs": [
    {
     "data": {
      "image/svg+xml": [
       "<svg xmlns=\"http://www.w3.org/2000/svg\" xmlns:xlink=\"http://www.w3.org/1999/xlink\" width=\"588pt\" height=\"284pt\" viewBox=\"0.00 0.00 587.75 283.75\">\n",
       "<g id=\"graph0\" class=\"graph\" transform=\"scale(1 1) rotate(0) translate(4 279.75)\">\n",
       "<title>polars_query</title>\n",
       "<polygon fill=\"white\" stroke=\"none\" points=\"-4,4 -4,-279.75 583.75,-279.75 583.75,4 -4,4\"/>\n",
       "<!-- p1 -->\n",
       "<g id=\"node1\" class=\"node\">\n",
       "<title>p1</title>\n",
       "<polygon fill=\"none\" stroke=\"black\" points=\"323.62,-275.75 255.12,-275.75 255.12,-239.75 323.62,-239.75 323.62,-275.75\"/>\n",
       "<text text-anchor=\"middle\" x=\"289.38\" y=\"-253.07\" font-family=\"Times,serif\" font-size=\"14.00\">UNION</text>\n",
       "</g>\n",
       "<!-- p2 -->\n",
       "<g id=\"node2\" class=\"node\">\n",
       "<title>p2</title>\n",
       "<polygon fill=\"none\" stroke=\"black\" points=\"280.75,-203.75 0,-203.75 0,-167.75 280.75,-167.75 280.75,-203.75\"/>\n",
       "<text text-anchor=\"middle\" x=\"140.38\" y=\"-181.07\" font-family=\"Times,serif\" font-size=\"14.00\">FILTER BY [([(col(&quot;foo&quot;)) * (2)]) &gt; (4)]</text>\n",
       "</g>\n",
       "<!-- p1&#45;&#45;p2 -->\n",
       "<g id=\"edge1\" class=\"edge\">\n",
       "<title>p1--p2</title>\n",
       "<path fill=\"none\" stroke=\"black\" d=\"M254.82,-240.51C231.69,-229.65 201.28,-215.36 177.61,-204.24\"/>\n",
       "</g>\n",
       "<!-- p5 -->\n",
       "<g id=\"node5\" class=\"node\">\n",
       "<title>p5</title>\n",
       "<polygon fill=\"none\" stroke=\"black\" points=\"579.75,-203.75 299,-203.75 299,-167.75 579.75,-167.75 579.75,-203.75\"/>\n",
       "<text text-anchor=\"middle\" x=\"439.38\" y=\"-181.07\" font-family=\"Times,serif\" font-size=\"14.00\">FILTER BY [([(col(&quot;foo&quot;)) * (2)]) &lt; (8)]</text>\n",
       "</g>\n",
       "<!-- p1&#45;&#45;p5 -->\n",
       "<g id=\"edge4\" class=\"edge\">\n",
       "<title>p1--p5</title>\n",
       "<path fill=\"none\" stroke=\"black\" d=\"M323.79,-240.69C347.14,-229.79 378.01,-215.39 401.97,-204.21\"/>\n",
       "</g>\n",
       "<!-- p3 -->\n",
       "<g id=\"node3\" class=\"node\">\n",
       "<title>p3</title>\n",
       "<polygon fill=\"none\" stroke=\"black\" points=\"278.5,-131.75 2.25,-131.75 2.25,-95.75 278.5,-95.75 278.5,-131.75\"/>\n",
       "<text text-anchor=\"middle\" x=\"140.38\" y=\"-109.08\" font-family=\"Times,serif\" font-size=\"14.00\">WITH COLUMNS [[(col(&quot;foo&quot;)) * (2)]]</text>\n",
       "</g>\n",
       "<!-- p2&#45;&#45;p3 -->\n",
       "<g id=\"edge2\" class=\"edge\">\n",
       "<title>p2--p3</title>\n",
       "<path fill=\"none\" stroke=\"black\" d=\"M140.38,-167.45C140.38,-156.6 140.38,-142.67 140.38,-131.85\"/>\n",
       "</g>\n",
       "<!-- p4 -->\n",
       "<g id=\"node4\" class=\"node\">\n",
       "<title>p4</title>\n",
       "<polygon fill=\"none\" stroke=\"black\" points=\"174.25,-59.75 106.5,-59.75 106.5,0 174.25,0 174.25,-59.75\"/>\n",
       "<text text-anchor=\"middle\" x=\"140.38\" y=\"-42.45\" font-family=\"Times,serif\" font-size=\"14.00\">TABLE</text>\n",
       "<text text-anchor=\"middle\" x=\"140.38\" y=\"-25.2\" font-family=\"Times,serif\" font-size=\"14.00\">π */2;</text>\n",
       "<text text-anchor=\"middle\" x=\"140.38\" y=\"-7.95\" font-family=\"Times,serif\" font-size=\"14.00\">σ None</text>\n",
       "</g>\n",
       "<!-- p3&#45;&#45;p4 -->\n",
       "<g id=\"edge3\" class=\"edge\">\n",
       "<title>p3--p4</title>\n",
       "<path fill=\"none\" stroke=\"black\" d=\"M140.38,-95.39C140.38,-85.15 140.38,-71.94 140.38,-60.14\"/>\n",
       "</g>\n",
       "<!-- p6 -->\n",
       "<g id=\"node6\" class=\"node\">\n",
       "<title>p6</title>\n",
       "<polygon fill=\"none\" stroke=\"black\" points=\"577.5,-131.75 301.25,-131.75 301.25,-95.75 577.5,-95.75 577.5,-131.75\"/>\n",
       "<text text-anchor=\"middle\" x=\"439.38\" y=\"-109.08\" font-family=\"Times,serif\" font-size=\"14.00\">WITH COLUMNS [[(col(&quot;foo&quot;)) * (2)]]</text>\n",
       "</g>\n",
       "<!-- p5&#45;&#45;p6 -->\n",
       "<g id=\"edge5\" class=\"edge\">\n",
       "<title>p5--p6</title>\n",
       "<path fill=\"none\" stroke=\"black\" d=\"M439.38,-167.45C439.38,-156.6 439.38,-142.67 439.38,-131.85\"/>\n",
       "</g>\n",
       "<!-- p7 -->\n",
       "<g id=\"node7\" class=\"node\">\n",
       "<title>p7</title>\n",
       "<polygon fill=\"none\" stroke=\"black\" points=\"473.25,-59.75 405.5,-59.75 405.5,0 473.25,0 473.25,-59.75\"/>\n",
       "<text text-anchor=\"middle\" x=\"439.38\" y=\"-42.45\" font-family=\"Times,serif\" font-size=\"14.00\">TABLE</text>\n",
       "<text text-anchor=\"middle\" x=\"439.38\" y=\"-25.2\" font-family=\"Times,serif\" font-size=\"14.00\">π */2;</text>\n",
       "<text text-anchor=\"middle\" x=\"439.38\" y=\"-7.95\" font-family=\"Times,serif\" font-size=\"14.00\">σ None</text>\n",
       "</g>\n",
       "<!-- p6&#45;&#45;p7 -->\n",
       "<g id=\"edge6\" class=\"edge\">\n",
       "<title>p6--p7</title>\n",
       "<path fill=\"none\" stroke=\"black\" d=\"M439.38,-95.39C439.38,-85.15 439.38,-71.94 439.38,-60.14\"/>\n",
       "</g>\n",
       "</g>\n",
       "</svg>"
      ],
      "text/plain": [
       "<IPython.core.display.SVG object>"
      ]
     },
     "metadata": {},
     "output_type": "display_data"
    },
    {
     "data": {
      "image/svg+xml": [
       "<svg xmlns=\"http://www.w3.org/2000/svg\" xmlns:xlink=\"http://www.w3.org/1999/xlink\" width=\"588pt\" height=\"284pt\" viewBox=\"0.00 0.00 587.75 283.75\">\n",
       "<g id=\"graph0\" class=\"graph\" transform=\"scale(1 1) rotate(0) translate(4 279.75)\">\n",
       "<title>polars_query</title>\n",
       "<polygon fill=\"white\" stroke=\"none\" points=\"-4,4 -4,-279.75 583.75,-279.75 583.75,4 -4,4\"/>\n",
       "<!-- p1 -->\n",
       "<g id=\"node1\" class=\"node\">\n",
       "<title>p1</title>\n",
       "<polygon fill=\"none\" stroke=\"black\" points=\"323.62,-275.75 255.12,-275.75 255.12,-239.75 323.62,-239.75 323.62,-275.75\"/>\n",
       "<text text-anchor=\"middle\" x=\"289.38\" y=\"-253.07\" font-family=\"Times,serif\" font-size=\"14.00\">UNION</text>\n",
       "</g>\n",
       "<!-- p2 -->\n",
       "<g id=\"node2\" class=\"node\">\n",
       "<title>p2</title>\n",
       "<polygon fill=\"none\" stroke=\"black\" points=\"280.75,-203.75 0,-203.75 0,-167.75 280.75,-167.75 280.75,-203.75\"/>\n",
       "<text text-anchor=\"middle\" x=\"140.38\" y=\"-181.07\" font-family=\"Times,serif\" font-size=\"14.00\">FILTER BY [([(col(&quot;foo&quot;)) * (2)]) &gt; (4)]</text>\n",
       "</g>\n",
       "<!-- p1&#45;&#45;p2 -->\n",
       "<g id=\"edge1\" class=\"edge\">\n",
       "<title>p1--p2</title>\n",
       "<path fill=\"none\" stroke=\"black\" d=\"M254.82,-240.51C231.69,-229.65 201.28,-215.36 177.61,-204.24\"/>\n",
       "</g>\n",
       "<!-- p5 -->\n",
       "<g id=\"node5\" class=\"node\">\n",
       "<title>p5</title>\n",
       "<polygon fill=\"none\" stroke=\"black\" points=\"579.75,-203.75 299,-203.75 299,-167.75 579.75,-167.75 579.75,-203.75\"/>\n",
       "<text text-anchor=\"middle\" x=\"439.38\" y=\"-181.07\" font-family=\"Times,serif\" font-size=\"14.00\">FILTER BY [([(col(&quot;foo&quot;)) * (2)]) &lt; (8)]</text>\n",
       "</g>\n",
       "<!-- p1&#45;&#45;p5 -->\n",
       "<g id=\"edge4\" class=\"edge\">\n",
       "<title>p1--p5</title>\n",
       "<path fill=\"none\" stroke=\"black\" d=\"M323.79,-240.69C347.14,-229.79 378.01,-215.39 401.97,-204.21\"/>\n",
       "</g>\n",
       "<!-- p3 -->\n",
       "<g id=\"node3\" class=\"node\">\n",
       "<title>p3</title>\n",
       "<polygon fill=\"none\" stroke=\"black\" points=\"278.5,-131.75 2.25,-131.75 2.25,-95.75 278.5,-95.75 278.5,-131.75\"/>\n",
       "<text text-anchor=\"middle\" x=\"140.38\" y=\"-109.08\" font-family=\"Times,serif\" font-size=\"14.00\">WITH COLUMNS [[(col(&quot;foo&quot;)) * (2)]]</text>\n",
       "</g>\n",
       "<!-- p2&#45;&#45;p3 -->\n",
       "<g id=\"edge2\" class=\"edge\">\n",
       "<title>p2--p3</title>\n",
       "<path fill=\"none\" stroke=\"black\" d=\"M140.38,-167.45C140.38,-156.6 140.38,-142.67 140.38,-131.85\"/>\n",
       "</g>\n",
       "<!-- p4 -->\n",
       "<g id=\"node4\" class=\"node\">\n",
       "<title>p4</title>\n",
       "<polygon fill=\"none\" stroke=\"black\" points=\"174.25,-59.75 106.5,-59.75 106.5,0 174.25,0 174.25,-59.75\"/>\n",
       "<text text-anchor=\"middle\" x=\"140.38\" y=\"-42.45\" font-family=\"Times,serif\" font-size=\"14.00\">TABLE</text>\n",
       "<text text-anchor=\"middle\" x=\"140.38\" y=\"-25.2\" font-family=\"Times,serif\" font-size=\"14.00\">π */2;</text>\n",
       "<text text-anchor=\"middle\" x=\"140.38\" y=\"-7.95\" font-family=\"Times,serif\" font-size=\"14.00\">σ None</text>\n",
       "</g>\n",
       "<!-- p3&#45;&#45;p4 -->\n",
       "<g id=\"edge3\" class=\"edge\">\n",
       "<title>p3--p4</title>\n",
       "<path fill=\"none\" stroke=\"black\" d=\"M140.38,-95.39C140.38,-85.15 140.38,-71.94 140.38,-60.14\"/>\n",
       "</g>\n",
       "<!-- p6 -->\n",
       "<g id=\"node6\" class=\"node\">\n",
       "<title>p6</title>\n",
       "<polygon fill=\"none\" stroke=\"black\" points=\"577.5,-131.75 301.25,-131.75 301.25,-95.75 577.5,-95.75 577.5,-131.75\"/>\n",
       "<text text-anchor=\"middle\" x=\"439.38\" y=\"-109.08\" font-family=\"Times,serif\" font-size=\"14.00\">WITH COLUMNS [[(col(&quot;foo&quot;)) * (2)]]</text>\n",
       "</g>\n",
       "<!-- p5&#45;&#45;p6 -->\n",
       "<g id=\"edge5\" class=\"edge\">\n",
       "<title>p5--p6</title>\n",
       "<path fill=\"none\" stroke=\"black\" d=\"M439.38,-167.45C439.38,-156.6 439.38,-142.67 439.38,-131.85\"/>\n",
       "</g>\n",
       "<!-- p7 -->\n",
       "<g id=\"node7\" class=\"node\">\n",
       "<title>p7</title>\n",
       "<polygon fill=\"none\" stroke=\"black\" points=\"473.25,-59.75 405.5,-59.75 405.5,0 473.25,0 473.25,-59.75\"/>\n",
       "<text text-anchor=\"middle\" x=\"439.38\" y=\"-42.45\" font-family=\"Times,serif\" font-size=\"14.00\">TABLE</text>\n",
       "<text text-anchor=\"middle\" x=\"439.38\" y=\"-25.2\" font-family=\"Times,serif\" font-size=\"14.00\">π */2;</text>\n",
       "<text text-anchor=\"middle\" x=\"439.38\" y=\"-7.95\" font-family=\"Times,serif\" font-size=\"14.00\">σ None</text>\n",
       "</g>\n",
       "<!-- p6&#45;&#45;p7 -->\n",
       "<g id=\"edge6\" class=\"edge\">\n",
       "<title>p6--p7</title>\n",
       "<path fill=\"none\" stroke=\"black\" d=\"M439.38,-95.39C439.38,-85.15 439.38,-71.94 439.38,-60.14\"/>\n",
       "</g>\n",
       "</g>\n",
       "</svg>"
      ],
      "text/plain": [
       "<IPython.core.display.SVG object>"
      ]
     },
     "metadata": {},
     "output_type": "display_data"
    }
   ],
   "source": [
    "lazy_df = pl.LazyFrame({\"foo\": [1, 2, 3, 4, 5], \"bar\": [6, 7, 8, 9, 10]})\n",
    "common_subplan = lazy_df.with_columns(pl.col(\"foo\") * 2)\n",
    "\n",
    "expr1 = common_subplan.filter(pl.col(\"foo\") * 2 > 4)\n",
    "expr2 = common_subplan.filter(pl.col(\"foo\") * 2 < 8)\n",
    "\n",
    "result = pl.concat([expr1, expr2])\n",
    "result.show_graph(optimized=False)\n",
    "result.show_graph()"
   ]
  },
  {
   "cell_type": "code",
   "execution_count": 12,
   "metadata": {},
   "outputs": [
    {
     "name": "stdout",
     "output_type": "stream",
     "text": [
      "CPU times: user 2.76 s, sys: 547 ms, total: 3.3 s\n",
      "Wall time: 250 ms\n"
     ]
    },
    {
     "data": {
      "text/html": [
       "<div><style>\n",
       ".dataframe > thead > tr,\n",
       ".dataframe > tbody > tr {\n",
       "  text-align: right;\n",
       "  white-space: pre-wrap;\n",
       "}\n",
       "</style>\n",
       "<small>shape: (3, 2)</small><table border=\"1\" class=\"dataframe\"><thead><tr><th>VendorID</th><th>income_per_distance</th></tr><tr><td>i64</td><td>f64</td></tr></thead><tbody><tr><td>1</td><td>6.434789</td></tr><tr><td>6</td><td>5.296493</td></tr><tr><td>5</td><td>4.731557</td></tr></tbody></table></div>"
      ],
      "text/plain": [
       "shape: (3, 2)\n",
       "+----------+---------------------+\n",
       "| VendorID | income_per_distance |\n",
       "| ---      | ---                 |\n",
       "| i64      | f64                 |\n",
       "+================================+\n",
       "| 1        | 6.434789            |\n",
       "| 6        | 5.296493            |\n",
       "| 5        | 4.731557            |\n",
       "+----------+---------------------+"
      ]
     },
     "execution_count": 12,
     "metadata": {},
     "output_type": "execute_result"
    }
   ],
   "source": [
    "  %%time\n",
    "  trips = pl.scan_parquet(\"data/taxi/yellow_tripdata_*.parquet\")\n",
    "  sum_per_vendor = trips.group_by(\"VendorID\").sum()\n",
    "  income_per_distance_per_vendor = sum_per_vendor.select(\n",
    "      \"VendorID\",\n",
    "      income_per_distance=pl.col(\"total_amount\") / pl.col(\"trip_distance\")\n",
    "  )\n",
    "  top_three = income_per_distance_per_vendor.sort(\n",
    "      by=\"income_per_distance\",\n",
    "      descending=True\n",
    "  ).head(3)\n",
    "  top_three.collect()"
   ]
  },
  {
   "cell_type": "code",
   "execution_count": 13,
   "metadata": {},
   "outputs": [
    {
     "data": {
      "text/html": [
       "<div><style>\n",
       ".dataframe > thead > tr,\n",
       ".dataframe > tbody > tr {\n",
       "  text-align: right;\n",
       "  white-space: pre-wrap;\n",
       "}\n",
       "</style>\n",
       "<small>shape: (3, 2)</small><table border=\"1\" class=\"dataframe\"><thead><tr><th>categorical_column</th><th>categorical_column_physical</th></tr><tr><td>cat</td><td>u32</td></tr></thead><tbody><tr><td>&quot;value1&quot;</td><td>0</td></tr><tr><td>&quot;value2&quot;</td><td>1</td></tr><tr><td>&quot;value3&quot;</td><td>2</td></tr></tbody></table></div>"
      ],
      "text/plain": [
       "shape: (3, 2)\n",
       "+--------------------+-----------------------------+\n",
       "| categorical_column | categorical_column_physical |\n",
       "| ---                | ---                         |\n",
       "| cat                | u32                         |\n",
       "+==================================================+\n",
       "| value1             | 0                           |\n",
       "| value2             | 1                           |\n",
       "| value3             | 2                           |\n",
       "+--------------------+-----------------------------+"
      ]
     },
     "execution_count": 13,
     "metadata": {},
     "output_type": "execute_result"
    }
   ],
   "source": [
    "df1 = pl.DataFrame(\n",
    "    {\"categorical_column\": [\"value1\", \"value2\", \"value3\"]},\n",
    "    schema={\"categorical_column\": pl.Categorical},\n",
    ")\n",
    "\n",
    "df1.with_columns(\n",
    "    pl.col(\"categorical_column\").to_physical().alias(\"categorical_column_physical\")\n",
    ")"
   ]
  }
 ],
 "metadata": {
  "kernelspec": {
   "display_name": ".venv",
   "language": "python",
   "name": "python3"
  },
  "language_info": {
   "codemirror_mode": {
    "name": "ipython",
    "version": 3
   },
   "file_extension": ".py",
   "mimetype": "text/x-python",
   "name": "python",
   "nbconvert_exporter": "python",
   "pygments_lexer": "ipython3",
   "version": "3.11.8"
  }
 },
 "nbformat": 4,
 "nbformat_minor": 2
}

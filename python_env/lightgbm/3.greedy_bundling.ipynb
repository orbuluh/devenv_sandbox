{
 "cells": [
  {
   "cell_type": "markdown",
   "metadata": {},
   "source": [
    "# lightGBM - Greedy Bundling\n",
    "\n",
    "- Modified from: https://github.com/meanxai/machine_learning/blob/main/12.LGBM/3.greedy_bundling.py\n",
    "- A detailed description of this code can be found in https://youtu.be/Y-IvfsjmqOQ"
   ]
  },
  {
   "cell_type": "code",
   "execution_count": 1,
   "metadata": {},
   "outputs": [],
   "source": [
    "import numpy as np\n",
    "\n",
    "x = np.array(\n",
    "    [\n",
    "        [1, 1, 0, 0, 1],\n",
    "        [0, 0, 1, 1, 1],\n",
    "        [1, 2, 0, 0, 2],\n",
    "        [0, 0, 2, 3, 1],\n",
    "        [2, 1, 0, 0, 3],\n",
    "        [3, 3, 0, 0, 1],\n",
    "        [0, 0, 3, 0, 2],\n",
    "        [1, 2, 3, 4, 3],\n",
    "        [1, 0, 1, 0, 0],\n",
    "        [2, 3, 0, 0, 2],\n",
    "    ]\n",
    ")"
   ]
  },
  {
   "cell_type": "code",
   "execution_count": 2,
   "metadata": {},
   "outputs": [
    {
     "name": "stdout",
     "output_type": "stream",
     "text": [
      "[[0. 6. 2. 1. 6.]\n",
      " [0. 0. 1. 1. 6.]\n",
      " [0. 0. 0. 3. 4.]\n",
      " [0. 0. 0. 0. 3.]\n",
      " [0. 0. 0. 0. 0.]]\n"
     ]
    }
   ],
   "source": [
    "# Create a conflict count matrix\n",
    "n_row = x.shape[0]\n",
    "n_col = x.shape[1]\n",
    "conflictCnt = np.zeros((n_col, n_col))\n",
    "\n",
    "for i in range(n_col):\n",
    "    for j in range(i + 1, n_col):\n",
    "        # Count the number of conflicts.\n",
    "        conflictCnt[i, j] = len(np.where(x[:, i] * x[:, j] > 0)[0])\n",
    "print(conflictCnt)"
   ]
  },
  {
   "cell_type": "code",
   "execution_count": 3,
   "metadata": {},
   "outputs": [
    {
     "name": "stdout",
     "output_type": "stream",
     "text": [
      "[[0. 6. 2. 1. 6.]\n",
      " [6. 0. 1. 1. 6.]\n",
      " [2. 1. 0. 3. 4.]\n",
      " [1. 1. 3. 0. 3.]\n",
      " [6. 6. 4. 3. 0.]]\n"
     ]
    }
   ],
   "source": [
    "# iu = (array([0, 0, 0, 0, 1, 1, 1, 2, 2, 3]),\n",
    "#       array([1, 2, 3, 4, 2, 3, 4, 3, 4, 4]))\n",
    "iu = np.triu_indices(n_col, 1)\n",
    "il = (iu[1], iu[0])\n",
    "# il = (array([1, 2, 3, 4, 2, 3, 4, 3, 4, 4]),\n",
    "#       array([0, 0, 0, 0, 1, 1, 1, 2, 2, 3]))\n",
    "# Copy upper triangle to lower triangle\n",
    "conflictCnt[il] = conflictCnt[iu]\n",
    "print(conflictCnt)"
   ]
  },
  {
   "cell_type": "code",
   "execution_count": 4,
   "metadata": {},
   "outputs": [
    {
     "name": "stdout",
     "output_type": "stream",
     "text": [
      "[15. 14. 10.  8. 19.]\n",
      "[4 0 1 2 3]\n"
     ]
    }
   ],
   "source": [
    "degree = conflictCnt.sum(axis=0)\n",
    "searchOrder = np.argsort(degree)[::-1]  # descending order\n",
    "print(degree)\n",
    "print(searchOrder)"
   ]
  },
  {
   "cell_type": "code",
   "execution_count": 5,
   "metadata": {},
   "outputs": [
    {
     "name": "stdout",
     "output_type": "stream",
     "text": [
      "i=4, j=4\n",
      "\n",
      "bundles\n",
      "[[4]]\n",
      "\n",
      "bundlesConflict\n",
      "[0.0]\n",
      "-----------------------\n",
      "i=0, j=0\n",
      "\n",
      "bundles\n",
      "[[4], [0]]\n",
      "\n",
      "bundlesConflict\n",
      "[0.0, 0.0]\n",
      "-----------------------\n",
      "i=1, j=1\n",
      "\n",
      "bundles\n",
      "[[4], [0], [1]]\n",
      "\n",
      "bundlesConflict\n",
      "[0.0, 0.0, 0.0]\n",
      "-----------------------\n",
      "i=2, j=2\n",
      "\n",
      "bundles\n",
      "[[4], [0], [1, 2]]\n",
      "\n",
      "bundlesConflict\n",
      "[0.0, 0.0, 1.0]\n",
      "-----------------------\n",
      "i=3, j=1\n",
      "\n",
      "bundles\n",
      "[[4], [0, 3], [1, 2]]\n",
      "\n",
      "bundlesConflict\n",
      "[0.0, 1.0, 1.0]\n",
      "-----------------------\n",
      "\n",
      "conflictCnt:\n",
      "[[0. 6. 2. 1. 6.]\n",
      " [6. 0. 1. 1. 6.]\n",
      " [2. 1. 0. 3. 4.]\n",
      " [1. 1. 3. 0. 3.]\n",
      " [6. 6. 4. 3. 0.]]\n",
      "\n",
      "searchOrder:\n",
      "[4, 0, 1, 2, 3]\n",
      "\n",
      "bundles\n",
      "[[4], [0, 3], [1, 2]]\n",
      "bundlesConflict: [0.0, 1.0, 1.0]\n"
     ]
    }
   ],
   "source": [
    "# ----------------------------\n",
    "# Algorithm 3: Greedy Bundling\n",
    "# ----------------------------\n",
    "K = 1  # max conflict count\n",
    "bundles = []\n",
    "bundlesConflict = []\n",
    "searchOrder = [int(x) for x in searchOrder]  # just make print better later\n",
    "for i in searchOrder:  # i = [4, 0, 1, 2, 3]\n",
    "    needNew = True\n",
    "    for j in range(len(bundles)):\n",
    "        cnt = int(conflictCnt[bundles[j][-1], i])\n",
    "        # Only edges less than or equal to K are considered.\n",
    "        if cnt + bundlesConflict[j] <= K:\n",
    "            # Add the feature number i to the j-th bundle.\n",
    "            bundles[j].append(i)\n",
    "\n",
    "            # Update the number of conflicts of features in the\n",
    "            # j-th bundle.\n",
    "            bundlesConflict[j] += cnt\n",
    "            needNew = False\n",
    "            break\n",
    "\n",
    "    if needNew:\n",
    "        bundles.append([i])\n",
    "        bundlesConflict.append(0.0)\n",
    "    print(f\"i={i}, j={j}\")\n",
    "    print(f\"\\nbundles\\n{bundles}\")\n",
    "    print(f\"\\nbundlesConflict\\n{bundlesConflict}\")\n",
    "    print(\"-----------------------\")\n",
    "\n",
    "print(f\"\\nconflictCnt:\\n{conflictCnt}\")\n",
    "print(f\"\\nsearchOrder:\\n{searchOrder}\")\n",
    "\n",
    "print(f\"\\nbundles\\n{bundles}\")\n",
    "print(f\"bundlesConflict: {bundlesConflict}\")"
   ]
  }
 ],
 "metadata": {
  "kernelspec": {
   "display_name": ".venv",
   "language": "python",
   "name": "python3"
  },
  "language_info": {
   "codemirror_mode": {
    "name": "ipython",
    "version": 3
   },
   "file_extension": ".py",
   "mimetype": "text/x-python",
   "name": "python",
   "nbconvert_exporter": "python",
   "pygments_lexer": "ipython3",
   "version": "3.10.12"
  }
 },
 "nbformat": 4,
 "nbformat_minor": 2
}
